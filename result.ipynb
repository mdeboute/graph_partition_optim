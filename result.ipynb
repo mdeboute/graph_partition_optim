{
 "cells": [
  {
   "cell_type": "code",
   "execution_count": 23,
   "metadata": {},
   "outputs": [
    {
     "name": "stdout",
     "output_type": "stream",
     "text": [
      "[[4, 0.0, '2'], [5, 0.0, '4'], [10, 0.01, '13'], [15, 0.74, '43'], [17, 3.47, '60'], [20, 17.13, '40'], [21, 60.0, '107'], [22, 60.0, '103'], [23, 60.0, '116'], [24, 60.01, '131'], [25, 60.0, '152'], [30, 60.0, '190'], [50, 60.0, 'inf'], [100, 60.0, 'inf'], [500, 60.02, 'inf'], [1000, 60.06, 'inf'], [10000, 80.19, 'inf']]\n"
     ]
    }
   ],
   "source": [
    "import re\n",
    "from text_to_num import text2num\n",
    "\n",
    "\n",
    "def parseResults(file):\n",
    "    # Example:\n",
    "    # sol/enum/log_centSommets.txt.txt:Result: best solution found in 60.00 seconds with cost: inf.\n",
    "    # sol/enum/log_cinqCentSommets.txt.txt:Result: best solution found in 60.03 seconds with cost: inf.\n",
    "    # sol/enum/log_cinqSommets.txt.txt:Result: best solution found in 0.00 seconds with cost: 4.\n",
    "    # ...\n",
    "\n",
    "    # save the name of the instance, the time and the cost in a list\n",
    "    results = list()\n",
    "    for line in open(file, \"r\").readlines():\n",
    "        if \"Result\" in line:\n",
    "            instance = line.split(\":\")[0].removeprefix(\"sol/enum/log_\").removesuffix(\"Sommets.txt\")\n",
    "            # split by upper case letter\n",
    "            instance = re.split(\"(?<!^)(?=[A-Z])\", instance)\n",
    "            # lowercase the letter of each word\n",
    "            instance = [word.lower() for word in instance]\n",
    "            # join the words\n",
    "            instance = \"-\".join(instance)\n",
    "\n",
    "            # special cases...\n",
    "            if instance == \"cinq-cent\":\n",
    "                instance = \"cinq cent\"\n",
    "            if instance == \"dix-mille\":\n",
    "                instance = \"dix mille\"\n",
    "            if instance == \"vingt-etun\":\n",
    "                instance = \"vingt et un\"\n",
    "\n",
    "            # text to number\n",
    "            instance = text2num(instance, \"fr\")\n",
    "\n",
    "            time = float(line.split(\":\")[2].split(\" \")[5])\n",
    "            cost = line.split(\":\")[3].removeprefix(\" \").removesuffix(\".\\n\")\n",
    "\n",
    "            results.append([instance, time, cost])\n",
    "\n",
    "            #sort the results by instance\n",
    "            results.sort(key=lambda x: x[0])\n",
    "\n",
    "    return results\n",
    "\n",
    "results = parseResults(\"sol/enum/results.csv\")\n",
    "print(results)"
   ]
  },
  {
   "cell_type": "code",
   "execution_count": 29,
   "metadata": {},
   "outputs": [
    {
     "data": {
      "image/png": "[encoded data removed]",
      "text/plain": [
       "<Figure size 432x288 with 1 Axes>"
      ]
     },
     "metadata": {
      "needs_background": "light"
     },
     "output_type": "display_data"
    }
   ],
   "source": [
    "from matplotlib import pyplot as plt\n",
    "\n",
    "# plot the results (X = instance, Y = time) with a log scale for the X axis\n",
    "plt.plot([result[0] for result in results], [result[1] for result in results], \"ro\")\n",
    "plt.xlabel(\"Instance (number of vertices)\")\n",
    "plt.ylabel(\"Time (s)\")\n",
    "plt.xscale(\"log\")\n",
    "# title\n",
    "plt.title(\"Time to solve the instances with the enumeration algorithm\")\n",
    "plt.show()"
   ]
  }
 ],
 "metadata": {
  "interpreter": {
   "hash": "feff3a92362b3d4ceb06033c5fcd2da44af8291c8bb4b78cdae52b2468151c62"
  },
  "kernelspec": {
   "display_name": "Python 3.9.0 64-bit ('3.9.0')",
   "language": "python",
   "name": "python3"
  },
  "language_info": {
   "codemirror_mode": {
    "name": "ipython",
    "version": 3
   },
   "file_extension": ".py",
   "mimetype": "text/x-python",
   "name": "python",
   "nbconvert_exporter": "python",
   "pygments_lexer": "ipython3",
   "version": "3.9.0"
  },
  "orig_nbformat": 4
 },
 "nbformat": 4,
 "nbformat_minor": 2
}
