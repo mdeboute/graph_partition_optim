{
 "cells": [
  {
   "cell_type": "code",
   "execution_count": 55,
   "metadata": {},
   "outputs": [],
   "source": [
    "import re\n",
    "from text_to_num import text2num\n",
    "\n",
    "\n",
    "def parseResults(file):\n",
    "    # Example:\n",
    "    # sol/enum/log_centSommets.txt.txt:Result: best solution found in 60.00 seconds with cost: inf.\n",
    "    # sol/enum/log_cinqCentSommets.txt.txt:Result: best solution found in 60.03 seconds with cost: inf.\n",
    "    # sol/enum/log_cinqSommets.txt.txt:Result: best solution found in 0.00 seconds with cost: 4.\n",
    "    # etc...\n",
    "\n",
    "    # save the name of the instance, the time and the cost in a list\n",
    "    results = list()\n",
    "    for line in open(file, \"r\").readlines():\n",
    "        if \"Result\" in line:\n",
    "            algo = line.split(\"/\")[1]\n",
    "\n",
    "            instance = line.split(\":\")[0].removeprefix(\"sol/\" + algo + \"/log_\").removesuffix(\"Sommets.txt\")\n",
    "            # split by upper case letter\n",
    "            instance = re.split(\"(?<!^)(?=[A-Z])\", instance)\n",
    "            # lowercase the letter of each word\n",
    "            instance = [word.lower() for word in instance]\n",
    "            # join the words\n",
    "            instance = \"-\".join(instance)\n",
    "\n",
    "            # special cases...\n",
    "            if instance == \"cinq-cent\":\n",
    "                instance = \"cinq cent\"\n",
    "            if instance == \"dix-mille\":\n",
    "                instance = \"dix mille\"\n",
    "            if instance == \"vingt-etun\":\n",
    "                instance = \"vingt et un\"\n",
    "\n",
    "            # text to number\n",
    "            instance = text2num(instance, \"fr\")\n",
    "\n",
    "            time = float(line.split(\":\")[2].split(\" \")[5])\n",
    "            cost = line.split(\":\")[3].removeprefix(\" \").removesuffix(\".\\n\")\n",
    "\n",
    "            results.append([instance, time, cost])\n",
    "\n",
    "            # sort the results by instance\n",
    "            results.sort(key=lambda x: x[0])\n",
    "\n",
    "    return results"
   ]
  },
  {
   "cell_type": "code",
   "execution_count": 56,
   "metadata": {},
   "outputs": [],
   "source": [
    "enumResults = parseResults(\"sol/enum/results.csv\")\n",
    "gradientResults = parseResults(\"sol/gradient/results.csv\")"
   ]
  },
  {
   "cell_type": "code",
   "execution_count": 57,
   "metadata": {},
   "outputs": [
    {
     "name": "stdout",
     "output_type": "stream",
     "text": [
      "\n",
      "\n",
      "\n",
      "\n",
      "Enum:\n",
      "4                    0.0                  2                   \n",
      "5                    0.0                  4                   \n",
      "10                   0.01                 13                  \n",
      "15                   0.74                 43                  \n",
      "17                   3.47                 60                  \n",
      "20                   17.13                40                  \n",
      "21                   60.0                 107                 \n",
      "22                   60.0                 103                 \n",
      "23                   60.0                 116                 \n",
      "24                   60.01                131                 \n",
      "25                   60.0                 152                 \n",
      "30                   60.0                 190                 \n",
      "50                   60.0                 inf                 \n",
      "100                  60.0                 inf                 \n",
      "500                  60.02                inf                 \n",
      "1000                 60.06                inf                 \n",
      "10000                80.19                inf                 \n",
      "\n",
      "\n",
      "\n",
      "\n",
      "Gradient:\n",
      "4                    0.0                  2                   \n",
      "5                    0.0                  4                   \n",
      "10                   0.0                  14                  \n",
      "15                   0.0                  48                  \n",
      "17                   0.0                  62                  \n",
      "20                   0.0                  56                  \n",
      "21                   0.0                  109                 \n",
      "22                   0.0                  115                 \n",
      "23                   0.0                  118                 \n",
      "24                   0.0                  133                 \n",
      "25                   0.0                  154                 \n",
      "30                   0.0                  200                 \n",
      "50                   0.0                  255                 \n",
      "100                  0.01                 1013                \n",
      "500                  0.08                 3748                \n",
      "1000                 0.3                  4955                \n",
      "10000                638.8                5000236             \n",
      "\n",
      "\n",
      "\n",
      "\n"
     ]
    }
   ],
   "source": [
    "# print the results in a table\n",
    "\n",
    "print(\"\\n\\n\\n\")\n",
    "print(\"Enum:\")\n",
    "print(\"\\n\".join([\"{:<20} {:<20} {:<20}\".format(x[0], x[1], x[2]) for x in enumResults]))\n",
    "print(\"\\n\\n\\n\")\n",
    "print(\"Gradient:\")\n",
    "print(\"\\n\".join([\"{:<20} {:<20} {:<20}\".format(x[0], x[1], x[2]) for x in gradientResults]))\n",
    "print(\"\\n\\n\\n\")\n"
   ]
  },
  {
   "cell_type": "code",
   "execution_count": 58,
   "metadata": {},
   "outputs": [],
   "source": [
    "# from matplotlib import pyplot as plt\n",
    "\n",
    "# plot the enum results and the gradient results,\n",
    "# where X is the instance (number of vertices) and Y is the time in seconds,\n",
    "# the X axis is logarithmic and the Y axis is linear\n",
    "# plt.scatter([x[0] for x in enumResults], [x[1] for x in enumResults], label=\"Enum\")\n",
    "# plt.scatter([x[0] for x in gradientResults], [x[1] for x in gradientResults], label=\"Gradient\")\n",
    "# plt.legend()\n",
    "# plt.xscale(\"log\")\n",
    "# plt.xlabel(\"Instances (number of vertices)\")\n",
    "# plt.ylabel(\"Time (s)\")\n",
    "# plt.title(\"Time to find the best solution (time limit: 60 seconds)\")\n",
    "# plt.show()"
   ]
  },
  {
   "cell_type": "code",
   "execution_count": null,
   "metadata": {},
   "outputs": [],
   "source": []
  }
 ],
 "metadata": {
  "interpreter": {
   "hash": "feff3a92362b3d4ceb06033c5fcd2da44af8291c8bb4b78cdae52b2468151c62"
  },
  "kernelspec": {
   "display_name": "Python 3.9.0 64-bit ('3.9.0')",
   "language": "python",
   "name": "python3"
  },
  "language_info": {
   "codemirror_mode": {
    "name": "ipython",
    "version": 3
   },
   "file_extension": ".py",
   "mimetype": "text/x-python",
   "name": "python",
   "nbconvert_exporter": "python",
   "pygments_lexer": "ipython3",
   "version": "3.9.0"
  },
  "orig_nbformat": 4
 },
 "nbformat": 4,
 "nbformat_minor": 2
}
