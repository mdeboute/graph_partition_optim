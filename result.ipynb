{
 "cells": [
  {
   "cell_type": "code",
   "execution_count": 8,
   "metadata": {},
   "outputs": [],
   "source": [
    "import re\n",
    "from text_to_num import text2num\n",
    "\n",
    "\n",
    "def parseResults(file):\n",
    "    # Example:\n",
    "    # sol/enum/log_centSommets.txt:Result: best solution found in 60.00 seconds with cost: inf.\n",
    "    # sol/enum/log_cinqCentSommets.txt:Result: best solution found in 60.03 seconds with cost: inf.\n",
    "    # sol/enum/log_cinqSommets.txt:Result: best solution found in 0.00 seconds with cost: 4.\n",
    "    # etc...\n",
    "\n",
    "    # save the name of the instance, the time and the cost in a list\n",
    "    results = list()\n",
    "    for line in open(file, \"r\").readlines():\n",
    "        if \"Result\" in line:\n",
    "            instance = line.split(\":\")[0]\n",
    "            # remove the path before the instance name\n",
    "            instance = instance.split(\"/log_\")[-1]\n",
    "            # remove the extension of the instance name\n",
    "            instance = instance.split(\"Sommets.txt\")[0]\n",
    "            # split by upper case letter\n",
    "            instance = re.split(\"(?<!^)(?=[A-Z])\", instance)\n",
    "            # lowercase the letter of each word\n",
    "            instance = [word.lower() for word in instance]\n",
    "            # join the words\n",
    "            instance = \"-\".join(instance)\n",
    "\n",
    "            # special cases...\n",
    "            if instance == \"cinq-cent\":\n",
    "                instance = \"cinq cent\"\n",
    "            if instance == \"dix-mille\":\n",
    "                instance = \"dix mille\"\n",
    "            if instance == \"vingt-etun\":\n",
    "                instance = \"vingt et un\"\n",
    "\n",
    "            # text to number\n",
    "            instance = text2num(instance, \"fr\")\n",
    "\n",
    "            time = float(line.split(\":\")[2].split(\" \")[5])\n",
    "            cost = line.split(\":\")[3].removeprefix(\" \").removesuffix(\".\\n\")\n",
    "\n",
    "            results.append([instance, time, cost])\n",
    "\n",
    "            # sort the results by instance\n",
    "            results.sort(key=lambda x: x[0])\n",
    "\n",
    "    return results"
   ]
  },
  {
   "cell_type": "code",
   "execution_count": 9,
   "metadata": {},
   "outputs": [],
   "source": [
    "enumResults = parseResults(\"sol/enum/results.csv\")\n",
    "gradientResults = parseResults(\"sol/gradient/results.csv\")\n",
    "meta1Results = parseResults(\"sol/meta1/results.csv\")\n",
    "meta2Results = parseResults(\"sol/meta2/results.csv\")"
   ]
  },
  {
   "cell_type": "code",
   "execution_count": 10,
   "metadata": {},
   "outputs": [],
   "source": [
    "import pandas as pd\n",
    "\n",
    "df1 = pd.DataFrame(enumResults, columns=[\"Number of vertices\", \"Time (s)\", \"Cost of the solution\"])\n",
    "df2 = pd.DataFrame(gradientResults, columns=[\"Number of vertices\", \"Time (s)\", \"Cost of the solution\"])\n",
    "df3 = pd.DataFrame(meta1Results, columns=[\"Number of vertices\", \"Time (s)\", \"Cost of the solution\"])\n",
    "df4 = pd.DataFrame(meta2Results, columns=[\"Number of vertices\", \"Time (s)\", \"Cost of the solution\"])\n",
    "\n",
    "# don't plot the index\n",
    "df1.set_index(\"Number of vertices\", inplace=True)\n",
    "df2.set_index(\"Number of vertices\", inplace=True)\n",
    "df3.set_index(\"Number of vertices\", inplace=True)\n",
    "df4.set_index(\"Number of vertices\", inplace=True)"
   ]
  },
  {
   "cell_type": "code",
   "execution_count": 11,
   "metadata": {},
   "outputs": [
    {
     "name": "stdout",
     "output_type": "stream",
     "text": [
      "                    Time (s) Cost of the solution\n",
      "Number of vertices                               \n",
      "4                       0.00                    2\n",
      "5                       0.00                    4\n",
      "10                      0.01                   13\n",
      "15                      0.78                   43\n",
      "17                      3.59                   60\n",
      "20                     16.81                   40\n",
      "21                     60.00                  107\n",
      "22                     60.00                  103\n",
      "23                     60.00                  116\n",
      "24                     60.01                  131\n",
      "25                     60.00                  152\n",
      "30                     60.00                  190\n",
      "50                     60.00                  inf\n",
      "100                    60.00                  inf\n",
      "500                    60.02                  inf\n",
      "1000                   60.06                  inf\n",
      "10000                  81.77                  inf\n"
     ]
    }
   ],
   "source": [
    "print(df1)"
   ]
  },
  {
   "cell_type": "code",
   "execution_count": 12,
   "metadata": {},
   "outputs": [
    {
     "name": "stdout",
     "output_type": "stream",
     "text": [
      "                    Time (s) Cost of the solution\n",
      "Number of vertices                               \n",
      "4                       0.00                    2\n",
      "5                       0.00                    4\n",
      "10                      0.00                   13\n",
      "15                      0.00                   44\n",
      "17                      0.00                   61\n",
      "20                      0.01                   40\n",
      "21                      0.00                  107\n",
      "22                      0.01                  104\n",
      "23                      0.01                  116\n",
      "24                      0.00                  131\n",
      "25                      0.01                  152\n",
      "30                      0.03                  189\n",
      "50                      0.16                  199\n",
      "100                     2.03                  852\n",
      "500                    60.07                 3690\n",
      "1000                   60.17                 5056\n",
      "10000                 689.97              4999477\n"
     ]
    }
   ],
   "source": [
    "print(df2)"
   ]
  },
  {
   "cell_type": "code",
   "execution_count": 13,
   "metadata": {},
   "outputs": [
    {
     "name": "stdout",
     "output_type": "stream",
     "text": [
      "                    Time (s) Cost of the solution\n",
      "Number of vertices                               \n",
      "4                       0.04                    2\n",
      "5                       0.04                    4\n",
      "10                      0.04                   13\n",
      "15                      0.04                   43\n",
      "17                      0.05                   60\n",
      "20                      0.05                   44\n",
      "21                      0.06                  107\n",
      "22                      0.05                  106\n",
      "23                      0.05                  117\n",
      "24                      0.06                  131\n",
      "25                      0.06                  152\n",
      "30                      0.06                  195\n",
      "50                      0.10                  215\n",
      "100                     0.26                  945\n",
      "500                     4.91                 3748\n",
      "1000                   18.18                 4896\n",
      "10000                 684.13              5001437\n"
     ]
    }
   ],
   "source": [
    "print(df3)"
   ]
  },
  {
   "cell_type": "code",
   "execution_count": 14,
   "metadata": {},
   "outputs": [
    {
     "name": "stdout",
     "output_type": "stream",
     "text": [
      "                    Time (s) Cost of the solution\n",
      "Number of vertices                               \n",
      "4                       0.01                    2\n",
      "5                       0.01                    4\n",
      "10                      0.02                   13\n",
      "15                      0.03                   44\n",
      "17                      0.03                   61\n",
      "20                      0.04                   40\n",
      "21                      0.04                  107\n",
      "22                      0.05                  103\n",
      "23                      0.05                  116\n",
      "24                      0.05                  131\n",
      "25                      0.06                  152\n",
      "30                      0.08                  189\n",
      "50                      0.17                  193\n",
      "100                     0.56                  855\n",
      "500                    11.30                 2856\n",
      "1000                   44.03                 3530\n",
      "10000                 685.59              4983505\n"
     ]
    }
   ],
   "source": [
    "print(df4)"
   ]
  }
 ],
 "metadata": {
  "interpreter": {
   "hash": "feff3a92362b3d4ceb06033c5fcd2da44af8291c8bb4b78cdae52b2468151c62"
  },
  "kernelspec": {
   "display_name": "Python 3.9.0 64-bit ('3.9.0')",
   "language": "python",
   "name": "python3"
  },
  "language_info": {
   "codemirror_mode": {
    "name": "ipython",
    "version": 3
   },
   "file_extension": ".py",
   "mimetype": "text/x-python",
   "name": "python",
   "nbconvert_exporter": "python",
   "pygments_lexer": "ipython3",
   "version": "3.9.0"
  },
  "orig_nbformat": 4
 },
 "nbformat": 4,
 "nbformat_minor": 2
}
