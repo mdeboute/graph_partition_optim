{
 "cells": [
  {
   "cell_type": "code",
   "execution_count": 67,
   "metadata": {},
   "outputs": [],
   "source": [
    "import re\n",
    "from text_to_num import text2num\n",
    "\n",
    "\n",
    "def parseResults(file):\n",
    "    # Example:\n",
    "    # sol/enum/log_centSommets.txt:Result: best solution found in 60.00 seconds with cost: inf.\n",
    "    # sol/enum/log_cinqCentSommets.txt:Result: best solution found in 60.03 seconds with cost: inf.\n",
    "    # sol/enum/log_cinqSommets.txt:Result: best solution found in 0.00 seconds with cost: 4.\n",
    "    # etc...\n",
    "\n",
    "    # save the name of the instance, the time and the cost in a list\n",
    "    results = list()\n",
    "    for line in open(file, \"r\").readlines():\n",
    "        if \"Result\" in line:\n",
    "            instance = line.split(\":\")[0]\n",
    "            # remove the path before the instance name\n",
    "            instance = instance.split(\"/log_\")[-1]\n",
    "            # remove the extension of the instance name\n",
    "            instance = instance.split(\"Sommets.txt\")[0]\n",
    "            # split by upper case letter\n",
    "            instance = re.split(\"(?<!^)(?=[A-Z])\", instance)\n",
    "            # lowercase the letter of each word\n",
    "            instance = [word.lower() for word in instance]\n",
    "            # join the words\n",
    "            instance = \"-\".join(instance)\n",
    "\n",
    "            # special cases...\n",
    "            if instance == \"cinq-cent\":\n",
    "                instance = \"cinq cent\"\n",
    "            if instance == \"dix-mille\":\n",
    "                instance = \"dix mille\"\n",
    "            if instance == \"vingt-etun\":\n",
    "                instance = \"vingt et un\"\n",
    "\n",
    "            # text to number\n",
    "            instance = text2num(instance, \"fr\")\n",
    "\n",
    "            time = float(line.split(\":\")[2].split(\" \")[5])\n",
    "            cost = line.split(\":\")[3].removeprefix(\" \").removesuffix(\".\\n\")\n",
    "\n",
    "            results.append([instance, time, cost])\n",
    "\n",
    "            # sort the results by instance\n",
    "            results.sort(key=lambda x: x[0])\n",
    "\n",
    "    return results"
   ]
  },
  {
   "cell_type": "code",
   "execution_count": 68,
   "metadata": {},
   "outputs": [],
   "source": [
    "# enumResults = parseResults(\"sol/enum/results.csv\")\n",
    "# gradientResults = parseResults(\"sol/gradient/results.csv\")\n",
    "# meta1Results = parseResults(\"sol/meta1/results.csv\")\n",
    "meta2Results = parseResults(\"sol/meta2/results.csv\")"
   ]
  },
  {
   "cell_type": "code",
   "execution_count": 69,
   "metadata": {},
   "outputs": [],
   "source": [
    "import pandas as pd\n",
    "\n",
    "# df1 = pd.DataFrame(enumResults, columns=[\"Number of vertices\", \"Time (s)\", \"Cost of the solution\"])\n",
    "# df2 = pd.DataFrame(gradientResults, columns=[\"Number of vertices\", \"Time (s)\", \"Cost of the solution\"])\n",
    "# df3 = pd.DataFrame(meta1Results, columns=[\"Number of vertices\", \"Time (s)\", \"Cost of the solution\"])\n",
    "df4 = pd.DataFrame(meta2Results, columns=[\"Number of vertices\", \"Time (s)\", \"Cost of the solution\"])\n",
    "\n",
    "# don't plot the index\n",
    "# df1.set_index(\"Number of vertices\", inplace=True)\n",
    "# df2.set_index(\"Number of vertices\", inplace=True)\n",
    "# df3.set_index(\"Number of vertices\", inplace=True)\n",
    "df4.set_index(\"Number of vertices\", inplace=True)"
   ]
  },
  {
   "cell_type": "code",
   "execution_count": 70,
   "metadata": {},
   "outputs": [
    {
     "name": "stdout",
     "output_type": "stream",
     "text": [
      "                    Time (s) Cost of the solution\n",
      "Number of vertices                               \n",
      "4                       0.04                    2\n",
      "5                       0.01                    4\n",
      "10                      0.03                   13\n",
      "15                      0.06                   43\n",
      "17                      0.07                   60\n",
      "20                      0.04                   40\n",
      "21                      0.08                  107\n",
      "22                      0.08                  103\n",
      "23                      0.08                  116\n",
      "24                      0.08                  131\n",
      "25                      0.09                  152\n",
      "30                      0.07                  189\n",
      "50                      0.14                  191\n",
      "100                     0.54                  847\n",
      "500                     9.64                 2900\n",
      "1000                   36.92                 3533\n",
      "10000                 495.87              4980940\n"
     ]
    }
   ],
   "source": [
    "print(df4) # the results for Meta2 (tabuSearch) with the aspiration criterion and the neighborhood size set to 100 for k=2"
   ]
  }
 ],
 "metadata": {
  "interpreter": {
   "hash": "feff3a92362b3d4ceb06033c5fcd2da44af8291c8bb4b78cdae52b2468151c62"
  },
  "kernelspec": {
   "display_name": "Python 3.9.0 64-bit ('3.9.0')",
   "language": "python",
   "name": "python3"
  },
  "language_info": {
   "codemirror_mode": {
    "name": "ipython",
    "version": 3
   },
   "file_extension": ".py",
   "mimetype": "text/x-python",
   "name": "python",
   "nbconvert_exporter": "python",
   "pygments_lexer": "ipython3",
   "version": "3.9.0"
  },
  "orig_nbformat": 4
 },
 "nbformat": 4,
 "nbformat_minor": 2
}
