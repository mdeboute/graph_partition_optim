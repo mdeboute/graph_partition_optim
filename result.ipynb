{
 "cells": [
  {
   "cell_type": "code",
   "execution_count": 32,
   "metadata": {},
   "outputs": [],
   "source": [
    "import re\n",
    "from text_to_num import text2num\n",
    "\n",
    "\n",
    "def parseResults(file):\n",
    "    # Example:\n",
    "    # sol/enum/log_centSommets.txt:Result: best solution found in 60.00 seconds with cost: inf.\n",
    "    # sol/enum/log_cinqCentSommets.txt:Result: best solution found in 60.03 seconds with cost: inf.\n",
    "    # sol/enum/log_cinqSommets.txt:Result: best solution found in 0.00 seconds with cost: 4.\n",
    "    # etc...\n",
    "\n",
    "    # save the name of the instance, the time and the cost in a list\n",
    "    results = list()\n",
    "    for line in open(file, \"r\").readlines():\n",
    "        if \"Result\" in line:\n",
    "            instance = line.split(\":\")[0]\n",
    "            # remove the path before the instance name\n",
    "            instance = instance.split(\"/log_\")[-1]\n",
    "            # remove the extension of the instance name\n",
    "            instance = instance.split(\"Sommets.txt\")[0]\n",
    "            # split by upper case letter\n",
    "            instance = re.split(\"(?<!^)(?=[A-Z])\", instance)\n",
    "            # lowercase the letter of each word\n",
    "            instance = [word.lower() for word in instance]\n",
    "            # join the words\n",
    "            instance = \"-\".join(instance)\n",
    "\n",
    "            # special cases...\n",
    "            if instance == \"cinq-cent\":\n",
    "                instance = \"cinq cent\"\n",
    "            if instance == \"dix-mille\":\n",
    "                instance = \"dix mille\"\n",
    "            if instance == \"vingt-etun\":\n",
    "                instance = \"vingt et un\"\n",
    "\n",
    "            # text to number\n",
    "            instance = text2num(instance, \"fr\")\n",
    "\n",
    "            time = float(line.split(\":\")[2].split(\" \")[5])\n",
    "            cost = line.split(\":\")[3].removeprefix(\" \").removesuffix(\".\\n\")\n",
    "\n",
    "            results.append([instance, time, cost])\n",
    "\n",
    "            # sort the results by instance\n",
    "            results.sort(key=lambda x: x[0])\n",
    "\n",
    "    return results"
   ]
  },
  {
   "cell_type": "code",
   "execution_count": 33,
   "metadata": {},
   "outputs": [],
   "source": [
    "enumResults = parseResults(\"sol/enum/results.csv\")\n",
    "gradientResults = parseResults(\"sol/gradient/results.csv\")\n",
    "meta1Results = parseResults(\"sol/meta1/results.csv\")"
   ]
  },
  {
   "cell_type": "code",
   "execution_count": 34,
   "metadata": {},
   "outputs": [],
   "source": [
    "import pandas as pd\n",
    "\n",
    "df = pd.DataFrame(enumResults, columns=[\"Number of vertices\", \"Time (s)\", \"Cost of the solution\"])\n",
    "df2 = pd.DataFrame(gradientResults, columns=[\"Number of vertices\", \"Time (s)\", \"Cost of the solution\"])\n",
    "df3 = pd.DataFrame(meta1Results, columns=[\"Number of vertices\", \"Time (s)\", \"Cost of the solution\"])\n",
    "\n",
    "# don't plot the index\n",
    "df.set_index(\"Number of vertices\", inplace=True)\n",
    "df2.set_index(\"Number of vertices\", inplace=True)\n",
    "df3.set_index(\"Number of vertices\", inplace=True)"
   ]
  },
  {
   "cell_type": "code",
   "execution_count": 44,
   "metadata": {},
   "outputs": [
    {
     "data": {
      "text/plain": [
       "'\\\\begin{tabular}{lrl}\\n & Time (s) & Cost of the solution \\\\\\\\\\nNumber of vertices &  &  \\\\\\\\\\n4 & 0.000000 & 2 \\\\\\\\\\n5 & 0.000000 & 4 \\\\\\\\\\n10 & 0.010000 & 13 \\\\\\\\\\n15 & 0.780000 & 43 \\\\\\\\\\n17 & 3.590000 & 60 \\\\\\\\\\n20 & 16.810000 & 40 \\\\\\\\\\n21 & 60.000000 & 107 \\\\\\\\\\n22 & 60.000000 & 103 \\\\\\\\\\n23 & 60.000000 & 116 \\\\\\\\\\n24 & 60.010000 & 131 \\\\\\\\\\n25 & 60.000000 & 152 \\\\\\\\\\n30 & 60.000000 & 190 \\\\\\\\\\n50 & 60.000000 & inf \\\\\\\\\\n100 & 60.000000 & inf \\\\\\\\\\n500 & 60.020000 & inf \\\\\\\\\\n1000 & 60.060000 & inf \\\\\\\\\\n10000 & 81.770000 & inf \\\\\\\\\\n\\\\end{tabular}\\n'"
      ]
     },
     "execution_count": 44,
     "metadata": {},
     "output_type": "execute_result"
    }
   ],
   "source": [
    "df.style.to_latex()"
   ]
  }
 ],
 "metadata": {
  "interpreter": {
   "hash": "feff3a92362b3d4ceb06033c5fcd2da44af8291c8bb4b78cdae52b2468151c62"
  },
  "kernelspec": {
   "display_name": "Python 3.9.0 64-bit ('3.9.0')",
   "language": "python",
   "name": "python3"
  },
  "language_info": {
   "codemirror_mode": {
    "name": "ipython",
    "version": 3
   },
   "file_extension": ".py",
   "mimetype": "text/x-python",
   "name": "python",
   "nbconvert_exporter": "python",
   "pygments_lexer": "ipython3",
   "version": "3.9.0"
  },
  "orig_nbformat": 4
 },
 "nbformat": 4,
 "nbformat_minor": 2
}
