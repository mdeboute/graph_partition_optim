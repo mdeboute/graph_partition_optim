{
 "cells": [
  {
   "cell_type": "code",
   "execution_count": 1,
   "metadata": {},
   "outputs": [
    {
     "name": "stdout",
     "output_type": "stream",
     "text": [
      "[['centSommets.txt', '60.00', 'inf'], ['cinqCentSommets.txt', '60.03', 'inf'], ['cinqSommets.txt', '0.00', '4'], ['cinquanteSommets.txt', '60.00', 'inf'], ['dixMilleSommets.txt', '80.05', 'inf'], ['dixSeptSommets.txt', '3.50', '60'], ['dixSommets.txt', '0.01', '13'], ['milleSommets.txt', '60.06', 'inf'], ['quatreSommets.txt', '0.00', '2'], ['quinzeSommets.txt', '0.76', '43'], ['trenteSommets.txt', '60.00', '190'], ['vingtCinqSommets.txt', '60.00', '152'], ['vingtDeuxSommets.txt', '60.00', '103'], ['vingtEtunSommets.txt', '60.00', '107'], ['vingtQuatreSommets.txt', '60.00', '131'], ['vingtSommets.txt', '16.47', '40'], ['vingtTroisSommets.txt', '60.00', '116']]\n"
     ]
    }
   ],
   "source": [
    "def parseResults(file):\n",
    "    # Example:\n",
    "    # sol/enum/log_centSommets.txt.txt:Result: best solution found in 60.00 seconds with cost: inf.\n",
    "    # sol/enum/log_cinqCentSommets.txt.txt:Result: best solution found in 60.03 seconds with cost: inf.\n",
    "    # sol/enum/log_cinqSommets.txt.txt:Result: best solution found in 0.00 seconds with cost: 4.\n",
    "    # ...\n",
    "\n",
    "    # save the name of the instance, the time and the cost in a list\n",
    "    results = list()\n",
    "    for line in open(file, \"r\").readlines():\n",
    "        if \"Result\" in line:\n",
    "            instance = line.split(\":\")[0].removeprefix(\"sol/enum/log_\").removesuffix(\".txt\")\n",
    "            time = line.split(\":\")[2].split(\" \")[5]\n",
    "            cost = line.split(\":\")[3].removeprefix(\" \").removesuffix(\".\\n\")\n",
    "            results.append([instance, time, cost])\n",
    "    return results\n",
    "\n",
    "results = parseResults(\"sol/enum/results.csv\")\n",
    "print(results)"
   ]
  }
 ],
 "metadata": {
  "interpreter": {
   "hash": "feff3a92362b3d4ceb06033c5fcd2da44af8291c8bb4b78cdae52b2468151c62"
  },
  "kernelspec": {
   "display_name": "Python 3.9.0 64-bit ('3.9.0')",
   "language": "python",
   "name": "python3"
  },
  "language_info": {
   "codemirror_mode": {
    "name": "ipython",
    "version": 3
   },
   "file_extension": ".py",
   "mimetype": "text/x-python",
   "name": "python",
   "nbconvert_exporter": "python",
   "pygments_lexer": "ipython3",
   "version": "3.9.0"
  },
  "orig_nbformat": 4
 },
 "nbformat": 4,
 "nbformat_minor": 2
}
