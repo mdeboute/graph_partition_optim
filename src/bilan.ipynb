{
 "cells": [
  {
   "cell_type": "code",
   "execution_count": 1,
   "metadata": {},
   "outputs": [],
   "source": [
    "import os\n",
    "\n",
    "def parse_instance(instance):\n",
    "    with open(instance, 'r') as f:\n",
    "        lines = f.readlines()\n",
    "        opt = float(lines[-1].split(':')[1].strip())\n",
    "    return opt\n",
    "\n",
    "def parse_dir(path):\n",
    "    filenames = []\n",
    "    optimal_solutions = []\n",
    "    dir = os.listdir(path)\n",
    "    dir.sort()\n",
    "    for f in dir:\n",
    "        filenames.append(f)\n",
    "        optimal_solutions.append(parse_instance(os.path.join(path, f)))\n",
    "    return filenames, optimal_solutions\n",
    "\n",
    "#TODO"
   ]
  }
 ],
 "metadata": {
  "interpreter": {
   "hash": "feff3a92362b3d4ceb06033c5fcd2da44af8291c8bb4b78cdae52b2468151c62"
  },
  "kernelspec": {
   "display_name": "Python 3.9.0 64-bit ('3.9.0')",
   "language": "python",
   "name": "python3"
  },
  "language_info": {
   "codemirror_mode": {
    "name": "ipython",
    "version": 3
   },
   "file_extension": ".py",
   "mimetype": "text/x-python",
   "name": "python",
   "nbconvert_exporter": "python",
   "pygments_lexer": "ipython3",
   "version": "3.9.0"
  },
  "orig_nbformat": 4
 },
 "nbformat": 4,
 "nbformat_minor": 2
}
